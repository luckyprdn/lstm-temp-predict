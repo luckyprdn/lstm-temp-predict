{
  "cells": [
    {
      "cell_type": "code",
      "execution_count": null,
      "metadata": {
        "id": "3A4NmvhHjsL5"
      },
      "outputs": [],
      "source": [
        "import streamlit as st"
      ]
    },
    {
      "cell_type": "code",
      "execution_count": null,
      "metadata": {
        "colab": {
          "base_uri": "https://localhost:8080/"
        },
        "id": "WU6dldir-rbG",
        "outputId": "9d59a588-6725-4e57-a932-3d50df24a17e"
      },
      "outputs": [
        {
          "name": "stdout",
          "output_type": "stream",
          "text": [
            "Overwriting app.py\n"
          ]
        }
      ],
      "source": [
        "%%writefile app.py\n",
        "def main ():\n",
        "  import pickle\n",
        "  import streamlit as st\n",
        "  from sklearn.preprocessing import MinMaxScaler\n",
        "  \n",
        "  pickle_in = open ('model.pkl','rb')\n",
        "  lstm_model = pickle.load(pickle_in)\n",
        "  st.title('Prediksi suhu di Tanjung Uban, Bintan Utara, Kepulauan Riau dengan LSTM model', anchor=None)\n",
        "  input = ([[st.number_input('Masukkan suhu yang ingin diprediksi')]])\n",
        "  \n",
        "  if st.button(\"Predict\"):\n",
        "    st.write('Predicting..')\n",
        "    import time\n",
        "    my_bar = st.progress(0)\n",
        "\n",
        "    for percent_complete in range(100):\n",
        "     time.sleep(0.1)\n",
        "     my_bar.progress(percent_complete + 2)\n",
        "\n",
        "    scaler = MinMaxScaler(feature_range=(0,1))           \n",
        "    temp_scaled = scaler.fit_transform(input) \n",
        "    result = lstm_model.predict (temp_scaled)\n",
        "    result = scaler.inverse_transform(result)\n",
        "    st.success('Suhu menurut LSTM (Besok)'.format(result))\n",
        "    st.write(result)\n",
        "\n",
        "if __name__=='__main__': \n",
        "    main()"
      ]
    },
    {
      "cell_type": "code",
      "source": [
        "pip show sklearn"
      ],
      "metadata": {
        "colab": {
          "base_uri": "https://localhost:8080/"
        },
        "id": "zZZFZ4CHz5JC",
        "outputId": "8f835652-629a-41bb-de67-fd3a2536db72"
      },
      "execution_count": null,
      "outputs": [
        {
          "output_type": "stream",
          "name": "stdout",
          "text": [
            "Name: sklearn\n",
            "Version: 0.0\n",
            "Summary: A set of python modules for machine learning and data mining\n",
            "Home-page: https://pypi.python.org/pypi/scikit-learn/\n",
            "Author: UNKNOWN\n",
            "Author-email: UNKNOWN\n",
            "License: None\n",
            "Location: /usr/local/lib/python3.7/dist-packages\n",
            "Requires: scikit-learn\n",
            "Required-by: \n"
          ]
        }
      ]
    },
    {
      "cell_type": "code",
      "execution_count": null,
      "metadata": {
        "colab": {
          "background_save": true
        },
        "id": "yoXQ0Ul-ry0f"
      },
      "outputs": [],
      "source": [
        "pipreqs /content/app.py"
      ]
    },
    {
      "cell_type": "code",
      "execution_count": null,
      "metadata": {
        "colab": {
          "base_uri": "https://localhost:8080/"
        },
        "id": "0ZBNeMpF_DcX",
        "outputId": "fe6636b9-acff-4c80-bacf-4ee7f2910699"
      },
      "outputs": [
        {
          "name": "stdout",
          "output_type": "stream",
          "text": [
            "\u001b[K\u001b[?25hnpx: installed 22 in 3.001s\n",
            "\u001b[0m\n",
            "\u001b[34m\u001b[1m  You can now view your Streamlit app in your browser.\u001b[0m\n",
            "\u001b[0m\n",
            "\u001b[34m  Network URL: \u001b[0m\u001b[1mhttp://172.28.0.2:8501\u001b[0m\n",
            "\u001b[34m  External URL: \u001b[0m\u001b[1mhttp://34.125.24.100:8501\u001b[0m\n",
            "\u001b[0m\n",
            "your url is: https://fresh-wombat-61.loca.lt\n",
            "2021-12-12 12:43:43.694391: E tensorflow/stream_executor/cuda/cuda_driver.cc:271] failed call to cuInit: CUDA_ERROR_NO_DEVICE: no CUDA-capable device is detected\n",
            "\u001b[34m  Stopping...\u001b[0m\n",
            "^C\n"
          ]
        }
      ],
      "source": [
        "!streamlit run app.py & npx localtunnel --port 8501"
      ]
    }
  ],
  "metadata": {
    "colab": {
      "collapsed_sections": [],
      "name": "streamlit.ipynb",
      "provenance": []
    },
    "kernelspec": {
      "display_name": "Python 3",
      "name": "python3"
    },
    "language_info": {
      "name": "python"
    }
  },
  "nbformat": 4,
  "nbformat_minor": 0
}